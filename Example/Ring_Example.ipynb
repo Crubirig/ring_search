{
 "cells": [
  {
   "cell_type": "code",
   "execution_count": null,
   "id": "3007955d",
   "metadata": {},
   "outputs": [],
   "source": [
    "import networkx as nx\n",
    "\n",
    "# Create a graph\n",
    "graph = nx.Graph()\n",
    "graph.add_edges_from([(0, 1), (1, 2), (2, 3), (3, 4), (4, 5), (5, 0)])\n",
    "\n",
    "\n",
    "nx.draw(graph, with_labels=True)"
   ]
  },
  {
   "cell_type": "code",
   "execution_count": null,
   "id": "9aab158a",
   "metadata": {},
   "outputs": [],
   "source": [
    "from searching_ring.Primitive_ring_search import Primitive_ring_search\n",
    "\n",
    "# Initialize the search\n",
    "search = Primitive_ring_search(graph=graph, max_size=6)\n",
    "\n",
    "# Perform the search\n",
    "primitive_rings = search.search_primitive_ring()\n",
    "\n",
    "# Plot the results\n",
    "search.plot()"
   ]
  },
  {
   "cell_type": "code",
   "execution_count": null,
   "id": "1f66b963",
   "metadata": {},
   "outputs": [],
   "source": [
    "import networkx as nx\n",
    "\n",
    "G=nx.Graph()\n",
    "\n",
    "nodes = range(6)\n",
    "\n",
    "edges = [(i, (i+1+6)%6) for i in range(6)]\n",
    "\n",
    "five_cycle = [(4, 6), (6, 7), (7, 8), (8, 5), (1,2)]\n",
    "\n",
    "edges += five_cycle\n",
    "\n",
    "G = nx.Graph(edges)\n",
    "\n",
    "nx.draw(G, with_labels=True)"
   ]
  },
  {
   "cell_type": "code",
   "execution_count": null,
   "id": "2fb2e240",
   "metadata": {},
   "outputs": [],
   "source": [
    "from searching_ring.Primitive_ring_search import Primitive_ring_search\n",
    "\n",
    "# Initialize the search\n",
    "search = Primitive_ring_search(graph=G, max_size=10, src_nodes=range(9))\n",
    "\n",
    "# Perform the search\n",
    "primitive_rings = search.search_primitive_ring()\n",
    "\n",
    "# Plot the results\n",
    "search.plot()"
   ]
  },
  {
   "cell_type": "code",
   "execution_count": null,
   "id": "fab59386",
   "metadata": {},
   "outputs": [],
   "source": [
    "from ase.io import read\n",
    "from ase.visualize import view\n",
    "\n",
    "quartz = read(\"Quartz_UC.xyz\")\n",
    "print(quartz)\n",
    "view(quartz, viewer=\"x3d\")"
   ]
  },
  {
   "cell_type": "code",
   "execution_count": null,
   "id": "3750b8ad",
   "metadata": {},
   "outputs": [],
   "source": [
    "from searching_ring.Molecular_Graph import Molecule_To_Graph\n",
    "\n",
    "quartz_graph = Molecule_To_Graph(structure=quartz, periodic=[True, True, True], silica=True, max_ring=14)\n",
    "\n",
    "mol_graph, si_nodes = quartz_graph.full_routine()"
   ]
  },
  {
   "cell_type": "code",
   "execution_count": null,
   "id": "ecc6d6f7",
   "metadata": {},
   "outputs": [],
   "source": [
    "from searching_ring.Primitive_ring_search import Primitive_ring_search\n",
    "\n",
    "silica_ring = Primitive_ring_search(graph=mol_graph, max_size=13, src_nodes=si_nodes)\n",
    "\n",
    "silica_ring.search_primitive_ring()\n",
    "\n",
    "silica_ring.plot(normalized=True)"
   ]
  }
 ],
 "metadata": {
  "kernelspec": {
   "display_name": "Ring_Search",
   "language": "python",
   "name": "python3"
  },
  "language_info": {
   "codemirror_mode": {
    "name": "ipython",
    "version": 3
   },
   "file_extension": ".py",
   "mimetype": "text/x-python",
   "name": "python",
   "nbconvert_exporter": "python",
   "pygments_lexer": "ipython3",
   "version": "3.13.2"
  }
 },
 "nbformat": 4,
 "nbformat_minor": 5
}
