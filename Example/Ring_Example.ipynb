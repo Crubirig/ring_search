{
 "cells": [
  {
   "cell_type": "code",
   "execution_count": 17,
   "id": "fab59386",
   "metadata": {},
   "outputs": [
    {
     "name": "stdout",
     "output_type": "stream",
     "text": [
      "Atoms(symbols='Si3O6', pbc=True, cell=[[4.916, 0.0, 0.0], [-2.458, 4.2574, 0.0], [0.0, 0.0, 5.4505]])\n"
     ]
    }
   ],
   "source": [
    "from ase.io import read\n",
    "from ase.visualize import view\n",
    "\n",
    "silica= read(\"Quartz_UC.xyz\")\n",
    "print(silica)\n",
    "# view(silica, viewer=\"x3d\")"
   ]
  },
  {
   "cell_type": "code",
   "execution_count": 18,
   "id": "c31cf27f",
   "metadata": {},
   "outputs": [
    {
     "name": "stdout",
     "output_type": "stream",
     "text": [
      "900\n",
      "Structure too small to compute every 25-rings, must create a [5. 5. 4.] supercell.\n",
      "Graph with 24300 nodes and 32400 edges 900 Atoms(symbols='O16200Si8100', pbc=True, cell=[[73.74000000000001, 0.0, 0.0], [-36.870000000000005, 63.861, 0.0], [0.0, 0.0, 65.406]])\n"
     ]
    }
   ],
   "source": [
    "from searching_ring.Molecular_Graph import Molecule_To_Graph\n",
    "\n",
    "silica_graph = Molecule_To_Graph(structure=silica, periodic=[True, True, True], max_ring=25)\n",
    "\n",
    "mol_graph, si_nodes = silica_graph.full_routine()\n",
    "\n",
    "print(mol_graph, len(si_nodes), silica_graph.structure)"
   ]
  },
  {
   "cell_type": "code",
   "execution_count": 19,
   "id": "723e8388",
   "metadata": {},
   "outputs": [
    {
     "name": "stdout",
     "output_type": "stream",
     "text": [
      "Computing primitive nodes took in average 0.0010118484497070312 seconds\n",
      "Computing potential rings took in average 0.009428977966308594 seconds\n",
      "Computing primitive rings took in average 0.00028705596923828125 seconds\n",
      "Finding primitive rings took 9.889718055725098 seconds.\n"
     ]
    }
   ],
   "source": [
    "from searching_ring.Primitive_ring_search import Primitive_ring_search\n",
    "import networkx as nx\n",
    "import time\n",
    "\n",
    "# start_time = time.time()\n",
    "# dist_list = dict(nx.all_pairs_shortest_path_length(mol_graph, cutoff=15//2 + 1))\n",
    "# end_time = time.time()\n",
    "# print(f\"Computing all shotest paths took {end_time - start_time} seconds.\")\n",
    "\n",
    "start_time = time.time()\n",
    "silica_ring = Primitive_ring_search(graph=mol_graph, max_size=25, src_nodes=[si_nodes[0]])\n",
    "rings = silica_ring.search_primitive_ring()\n",
    "end_time = time.time()\n",
    "print(f\"Finding primitive rings took {end_time - start_time} seconds.\")"
   ]
  },
  {
   "cell_type": "code",
   "execution_count": 20,
   "id": "4b4557df",
   "metadata": {},
   "outputs": [
    {
     "name": "stdout",
     "output_type": "stream",
     "text": [
      "900\n",
      "{2: 0, 3: 0, 4: 0, 5: 0, 6: 0, 7: 0, 8: 0, 9: 0, 10: 0, 11: 0, 12: 6, 13: 0, 14: 0, 15: 0, 16: 40, 17: 0, 18: 0, 19: 0, 20: 0, 21: 0, 22: 0, 23: 0, 24: 0, 25: 0, 26: 0}\n"
     ]
    },
    {
     "data": {
      "image/png": "[encoded data removed]",
      "text/plain": [
       "<Figure size 640x480 with 1 Axes>"
      ]
     },
     "metadata": {},
     "output_type": "display_data"
    }
   ],
   "source": [
    "print(len(si_nodes))\n",
    "print(silica_ring.prim_rings)\n",
    "silica_ring.plot()"
   ]
  },
  {
   "cell_type": "code",
   "execution_count": 21,
   "id": "3750b8ad",
   "metadata": {},
   "outputs": [
    {
     "name": "stdout",
     "output_type": "stream",
     "text": [
      "900\n",
      "Structure too small to compute every 25-rings, must create a [5. 5. 4.] supercell.\n",
      "Graph with 8100 nodes and 16200 edges 900 Atoms(symbols='O16200Si8100', pbc=True, cell=[[73.74000000000001, 0.0, 0.0], [-36.870000000000005, 63.861, 0.0], [0.0, 0.0, 65.406]])\n"
     ]
    }
   ],
   "source": [
    "from searching_ring.Molecular_Graph import Molecule_To_Graph\n",
    "from ase.io import write\n",
    "real_silica_graph = Molecule_To_Graph(structure=silica, periodic=[True, True, True], silica=True, max_ring=25)\n",
    "\n",
    "real_mol_graph, real_si_nodes = real_silica_graph.full_routine()\n",
    "\n",
    "print(real_mol_graph, len(si_nodes), real_silica_graph.structure)\n",
    "# write(\"Coesite_SC_Check.pdb\", silica_graph.structure)"
   ]
  },
  {
   "cell_type": "code",
   "execution_count": 22,
   "id": "ecc6d6f7",
   "metadata": {},
   "outputs": [
    {
     "name": "stdout",
     "output_type": "stream",
     "text": [
      "Computing primitive nodes took in average 0.00038044055302937827 seconds\n",
      "Computing potential rings took in average 0.0035138781865437824 seconds\n",
      "Computing primitive rings took in average 0.00021593491236368816 seconds\n",
      "Finding primitive rings took 2.749213933944702 seconds.\n"
     ]
    }
   ],
   "source": [
    "from searching_ring.Primitive_ring_search import Primitive_ring_search\n",
    "import networkx as nx\n",
    "import time\n",
    "\n",
    "# start_time = time.time()\n",
    "# dist_list = dict(nx.all_pairs_shortest_path_length(mol_graph, cutoff=15//2 + 1))\n",
    "# end_time = time.time()\n",
    "# print(f\"Computing all shotest paths took {end_time - start_time} seconds.\")\n",
    "\n",
    "start_time = time.time()\n",
    "real_silica_ring = Primitive_ring_search(graph=real_mol_graph, max_size=13, src_nodes=real_si_nodes)\n",
    "real_rings = real_silica_ring.search_primitive_ring()\n",
    "end_time = time.time()\n",
    "print(f\"Finding primitive rings took {end_time - start_time} seconds.\")"
   ]
  },
  {
   "cell_type": "code",
   "execution_count": 23,
   "id": "165d4a53",
   "metadata": {},
   "outputs": [
    {
     "name": "stdout",
     "output_type": "stream",
     "text": [
      "900\n",
      "{2: 0, 3: 0, 4: 0, 5: 0, 6: 1800, 7: 0, 8: 12000, 9: 0, 10: 0, 11: 0, 12: 0, 13: 0, 14: 0}\n",
      "[ 0.  0.  0.  0.  6.  0. 40.  0.  0.  0.  0.  0.  0.]\n"
     ]
    },
    {
     "data": {
      "image/png": "[encoded data removed]",
      "text/plain": [
       "<Figure size 640x480 with 1 Axes>"
      ]
     },
     "metadata": {},
     "output_type": "display_data"
    }
   ],
   "source": [
    "import numpy as np\n",
    "print(len(si_nodes))\n",
    "print(real_silica_ring.prim_rings)\n",
    "real_silica_ring.plot()\n",
    "verif = np.array(list(real_silica_ring.prim_rings.values()))/len(real_si_nodes)\n",
    "print(verif)"
   ]
  },
  {
   "cell_type": "code",
   "execution_count": null,
   "id": "1a7c3feb",
   "metadata": {},
   "outputs": [],
   "source": [
    "# print(real_rings[real_si_nodes[0]][11])\n",
    "# print(rings[si_nodes[0]][22])\n",
    "\n",
    "only_si_rings = []\n",
    "\n",
    "for i in real_rings[real_si_nodes[0]][11]:\n",
    "    only_si_rings.append(sorted(i))\n",
    "\n",
    "full_si_rings = []\n",
    "oxygen_full_si_rings = []\n",
    "for i in rings[si_nodes[0]][22]:\n",
    "    # print('index', ' '.join(str(x) for x in i))\n",
    "    full_si_rings.append(sorted(i[0::2]))\n",
    "    oxygen_full_si_rings.append(sorted(i))\n",
    "\n",
    "# print(len(only_si_rings), len(full_si_rings))\n",
    "\n",
    "# for i in only_si_rings:\n",
    "#     if i not in full_si_rings:\n",
    "#         print(i)\n",
    "\n",
    "# for i in only_si_rings:\n",
    "#     found = False\n",
    "#     for indexj, j in enumerate(full_si_rings):\n",
    "#         if i == j:\n",
    "#             print(i, oxygen_full_si_rings[indexj])\n",
    "#             found = True\n",
    "#             break\n",
    "    \n",
    "#     if not found:\n",
    "#         print(i)\n",
    "\n",
    "not_the_same = []\n",
    "\n",
    "for i in range(len(only_si_rings)):\n",
    "    try:\n",
    "        print('index', ' '.join(str(x) for x in only_si_rings[i]))\n",
    "        print('index', ' '.join(str(x) for x in full_si_rings[i]))\n",
    "        not_the_same.append(full_si_rings[i])\n",
    "        not_the_same.append(only_si_rings[i])\n",
    "    except IndexError: \n",
    "        print('index', ' '.join(str(x) for x in full_si_rings[i]))\n",
    "        not_the_same.append(only_si_rings[i])\n",
    "\n",
    "print(len(not_the_same))"
   ]
  },
  {
   "cell_type": "code",
   "execution_count": null,
   "id": "d5b216c6",
   "metadata": {},
   "outputs": [],
   "source": [
    "for i in real_rings[real_si_nodes[0]][11]:\n",
    "    print(i)\n",
    "print(si_nodes[0])"
   ]
  },
  {
   "cell_type": "code",
   "execution_count": null,
   "id": "c2d56a63",
   "metadata": {},
   "outputs": [],
   "source": [
    "from searching_ring.Primitive_ring_search import Primitive_ring_search\n",
    "\n",
    "real_silica_ring = Primitive_ring_search(graph=real_mol_graph, max_size=13, src_nodes=[real_si_nodes[0]])\n",
    "\n",
    "real_mid_nodes = real_silica_ring.find_prime_mid_nodes(src_node=real_si_nodes[0])\n",
    "\n",
    "real_future_rings = real_silica_ring.form_rings(src_node=real_si_nodes[0], prime_mid_node=real_mid_nodes)\n",
    "\n",
    "real_primitive_rings, real_missed = real_silica_ring.new_exclude_non_primitive_rings(real_future_rings)\n",
    "print(len(real_primitive_rings[11]))\n",
    "\n",
    "print(len(real_missed[11]))\n",
    "\n",
    "# ring_a = real_silica_ring.find_all_shortest_paths(starting_node=real_si_nodes[0], final_node=8798)\n",
    "# ring_b = real_silica_ring.find_all_shortest_paths(starting_node=real_si_nodes[0], final_node=8785)\n"
   ]
  },
  {
   "cell_type": "code",
   "execution_count": null,
   "id": "c4dfca0a",
   "metadata": {},
   "outputs": [],
   "source": [
    "from searching_ring.Primitive_ring_search import Primitive_ring_search\n",
    "\n",
    "import networkx as nx\n",
    "\n",
    "silica_ring = Primitive_ring_search(graph=mol_graph, max_size=25, src_nodes=[si_nodes[0]])\n",
    "\n",
    "mid_nodes = silica_ring.find_prime_mid_nodes(src_node=si_nodes[0])\n",
    "\n",
    "future_rings = silica_ring.form_rings(src_node=si_nodes[0], prime_mid_node=mid_nodes)\n",
    "\n",
    "future_primitive_rings, missed = silica_ring.new_exclude_non_primitive_rings(future_rings)\n",
    "# for i in range(len(future_rings[11])):\n",
    "#     print(future_rings[11][i])\n",
    "\n",
    "print(len(future_primitive_rings[22]))\n",
    "print(len(missed[22]))\n",
    "# ring_a = silica_ring.find_all_shortest_paths(starting_node=si_nodes[0], final_node=8798)\n",
    "# ring_b = silica_ring.find_all_shortest_paths(starting_node=si_nodes[0], final_node=8785)\n"
   ]
  },
  {
   "cell_type": "code",
   "execution_count": null,
   "id": "cc96f447",
   "metadata": {},
   "outputs": [],
   "source": [
    "print(real_primitive_rings[11][-1])"
   ]
  },
  {
   "cell_type": "code",
   "execution_count": null,
   "id": "04e79b92",
   "metadata": {},
   "outputs": [],
   "source": [
    "too_much = []\n",
    "for i in real_missed[11]:\n",
    "    too_much.append(sorted(i))\n",
    "print(too_much)"
   ]
  },
  {
   "cell_type": "code",
   "execution_count": null,
   "id": "fcc9f67d",
   "metadata": {},
   "outputs": [],
   "source": [
    "\n",
    "for i in missed[22]:\n",
    "    if sorted(i[0::2]) not in too_much:\n",
    "        print(i[0::2])\n",
    "        print(*i, sep=\" \")\n",
    "\n",
    "shortest_lengths = silica_ring.distances\n",
    "full_ring = missed[22][-1]\n",
    "print(full_ring)\n",
    "for i in range(1, 11):\n",
    "    check_node_a = full_ring[i]\n",
    "    check_node_b = full_ring[i + 11]\n",
    "    if shortest_lengths[check_node_a][check_node_b] != 11:\n",
    "        print(*silica_ring.find_all_shortest_paths(starting_node=check_node_a, final_node=check_node_b)[0], sep=\" \")\n",
    "print(full_ring[0::2])"
   ]
  },
  {
   "cell_type": "code",
   "execution_count": null,
   "id": "869ebe21",
   "metadata": {},
   "outputs": [],
   "source": [
    "real_full_ring = real_primitive_rings[11][-1]\n",
    "real_shortest_path = real_silica_ring.distances\n",
    "print(real_full_ring)\n",
    "for i in range(1, 11):\n",
    "    check_node_a = real_full_ring[i]\n",
    "    check_node_b1 = real_full_ring[i + 5]\n",
    "    check_node_b2 = real_full_ring[i + 1 + 5]\n",
    "    print(real_shortest_path[check_node_a][check_node_b1])\n",
    "    print(real_shortest_path[check_node_a][check_node_b2])\n",
    "print(real_mid_nodes[11])\n",
    "print(real_shortest_path[11240][8785])\n",
    "    # print(check_node_a, check_node_b1, check_node_b2)\n",
    "    # print()"
   ]
  },
  {
   "cell_type": "code",
   "execution_count": 16,
   "id": "f0c92d1e",
   "metadata": {},
   "outputs": [
    {
     "name": "stdout",
     "output_type": "stream",
     "text": [
      "1 4 5\n",
      "1 4 5\n",
      "2 5 6\n",
      "2 5 6\n",
      "3 6 7\n",
      "3 6 0\n"
     ]
    }
   ],
   "source": [
    "ring_size = 7\n",
    "path_length = ring_size//2\n",
    "\n",
    "for i in range(1, path_length + 1):\n",
    "    print(i, i+ path_length, i + path_length + 1)\n",
    "    print(i, i + path_length, (1 + path_length + i)%ring_size)"
   ]
  }
 ],
 "metadata": {
  "kernelspec": {
   "display_name": "Ring_Search",
   "language": "python",
   "name": "python3"
  },
  "language_info": {
   "codemirror_mode": {
    "name": "ipython",
    "version": 3
   },
   "file_extension": ".py",
   "mimetype": "text/x-python",
   "name": "python",
   "nbconvert_exporter": "python",
   "pygments_lexer": "ipython3",
   "version": "3.13.2"
  }
 },
 "nbformat": 4,
 "nbformat_minor": 5
}
